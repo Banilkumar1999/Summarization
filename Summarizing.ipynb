{
 "cells": [
  {
   "cell_type": "code",
   "execution_count": null,
   "metadata": {},
   "outputs": [],
   "source": [
    "  "
   ]
  },
  {
   "cell_type": "markdown",
   "metadata": {},
   "source": [
    "# Text Summarization"
   ]
  },
  {
   "cell_type": "markdown",
   "metadata": {
    "id": "X1Azjmw2JQNd"
   },
   "source": [
    "# Importing required libraries:"
   ]
  },
  {
   "cell_type": "code",
   "execution_count": 1,
   "metadata": {
    "colab": {
     "base_uri": "https://localhost:8080/"
    },
    "id": "ietVCXFEnIM9",
    "outputId": "14ae2287-18be-47ec-960d-58cda0d35964"
   },
   "outputs": [
    {
     "ename": "ModuleNotFoundError",
     "evalue": "No module named 'spacy'",
     "output_type": "error",
     "traceback": [
      "\u001b[1;31m---------------------------------------------------------------------------\u001b[0m",
      "\u001b[1;31mModuleNotFoundError\u001b[0m                       Traceback (most recent call last)",
      "\u001b[1;32m<ipython-input-1-06f16ea0c64a>\u001b[0m in \u001b[0;36m<module>\u001b[1;34m\u001b[0m\n\u001b[1;32m----> 1\u001b[1;33m \u001b[1;32mimport\u001b[0m \u001b[0mspacy\u001b[0m\u001b[1;33m\u001b[0m\u001b[1;33m\u001b[0m\u001b[0m\n\u001b[0m\u001b[0;32m      2\u001b[0m \u001b[1;32mfrom\u001b[0m \u001b[0mspacy\u001b[0m\u001b[1;33m.\u001b[0m\u001b[0mlang\u001b[0m\u001b[1;33m.\u001b[0m\u001b[0men\u001b[0m\u001b[1;33m.\u001b[0m\u001b[0mstop_words\u001b[0m \u001b[1;32mimport\u001b[0m \u001b[0mSTOP_WORDS\u001b[0m\u001b[1;33m\u001b[0m\u001b[1;33m\u001b[0m\u001b[0m\n\u001b[0;32m      3\u001b[0m \u001b[1;32mfrom\u001b[0m \u001b[0mstring\u001b[0m \u001b[1;32mimport\u001b[0m \u001b[0mpunctuation\u001b[0m\u001b[1;33m\u001b[0m\u001b[1;33m\u001b[0m\u001b[0m\n\u001b[0;32m      4\u001b[0m \u001b[1;32mimport\u001b[0m \u001b[0mwarnings\u001b[0m\u001b[1;33m\u001b[0m\u001b[1;33m\u001b[0m\u001b[0m\n\u001b[0;32m      5\u001b[0m \u001b[1;32mfrom\u001b[0m \u001b[0mheapq\u001b[0m \u001b[1;32mimport\u001b[0m \u001b[0mnlargest\u001b[0m\u001b[1;33m\u001b[0m\u001b[1;33m\u001b[0m\u001b[0m\n",
      "\u001b[1;31mModuleNotFoundError\u001b[0m: No module named 'spacy'"
     ]
    }
   ],
   "source": [
    "import spacy\n",
    "from spacy.lang.en.stop_words import STOP_WORDS\n",
    "from string import punctuation\n",
    "import warnings\n",
    "from heapq import nlargest\n",
    "spacy.cli.download(\"en\")\n",
    "warnings.filterwarnings('ignore')"
   ]
  },
  {
   "cell_type": "markdown",
   "metadata": {
    "id": "lODRdYHmJuhE"
   },
   "source": [
    "\n",
    "# Read the Text"
   ]
  },
  {
   "cell_type": "code",
   "execution_count": 2,
   "metadata": {
    "id": "e2tmWvQxnwdE"
   },
   "outputs": [],
   "source": [
    "data = (\"The next morning, a now friendly Kattappa explains to Shivu about his true origins. Shivu is actually Mahendra Baahubali, the son of a famous warrior prince of Mahishmati - Amarendra Baahubali. Kattapa then narrates the past - Amarendra was born as an orphan; his father, King Vikramadeva had died before he was born and his mother had died giving birth to him. Lord Bijjaladeva, Vikramadeva's brother and the next-in-line in the Mahishmati royal family, was denied the throne, due to his cunning and deranged nature. Bijjaladeva's wife, Lady Sivagami, assumed power as an acting monarch, with the intention of raising both Bhalla (who happenned to be her son) and Amarendra, in an equal manner, in order to appropriately select the next heir to the throne of Mahishmati. Bhalla and Amarendra are both raised equally and trained rigorously in the arts of warfare, mathematics, administration, logic and numerous other subjects. Bijjaladeva, keen on making his son the next king, encourages Bhalla to do what ever it takes to ascend the throne; as a result Bhalla treats his subjects with cruelty and unmindfulness. Amarendra, on the other hand, grows up to be more mature and gains popularity in the kingdom.A traitor in the kingdom named Sakithan turns out to be a spy for the malicious Kalakeya tribe, who are known to be savages and destroyers of kingdoms. Their chief Inkoshi declares war due to past conflict with Mahishmati, and the royals respond strategically. Sivagami decides that whoever kills Inkoshi would be the new worthy king, so they assign the princes troops. Bijjaladeva secretly makes sure Bhalla has more weapons and men. Baahubali manages to destroy more Kalakeya troops using innovative tactics in the coming battle as well as motivating his soldiers and saving hostage subjects. He subdues Inkoshi and Bhalla kills him, but for his valour and concern for the people of his kingdom, Sivagami decides to crown him king\")"
   ]
  },
  {
   "cell_type": "code",
   "execution_count": 3,
   "metadata": {
    "colab": {
     "base_uri": "https://localhost:8080/"
    },
    "id": "rFQ66BDIr3O3",
    "outputId": "73300ae8-5fb0-4145-ceaa-f85cbdeee2df"
   },
   "outputs": [
    {
     "name": "stdout",
     "output_type": "stream",
     "text": [
      "The next morning, a now friendly Kattappa explains to Shivu about his true origins. Shivu is actually Mahendra Baahubali, the son of a famous warrior prince of Mahishmati - Amarendra Baahubali. Kattapa then narrates the past - Amarendra was born as an orphan; his father, King Vikramadeva had died before he was born and his mother had died giving birth to him. Lord Bijjaladeva, Vikramadeva's brother and the next-in-line in the Mahishmati royal family, was denied the throne, due to his cunning and deranged nature. Bijjaladeva's wife, Lady Sivagami, assumed power as an acting monarch, with the intention of raising both Bhalla (who happenned to be her son) and Amarendra, in an equal manner, in order to appropriately select the next heir to the throne of Mahishmati. Bhalla and Amarendra are both raised equally and trained rigorously in the arts of warfare, mathematics, administration, logic and numerous other subjects. Bijjaladeva, keen on making his son the next king, encourages Bhalla to do what ever it takes to ascend the throne; as a result Bhalla treats his subjects with cruelty and unmindfulness. Amarendra, on the other hand, grows up to be more mature and gains popularity in the kingdom.A traitor in the kingdom named Sakithan turns out to be a spy for the malicious Kalakeya tribe, who are known to be savages and destroyers of kingdoms. Their chief Inkoshi declares war due to past conflict with Mahishmati, and the royals respond strategically. Sivagami decides that whoever kills Inkoshi would be the new worthy king, so they assign the princes troops. Bijjaladeva secretly makes sure Bhalla has more weapons and men. Baahubali manages to destroy more Kalakeya troops using innovative tactics in the coming battle as well as motivating his soldiers and saving hostage subjects. He subdues Inkoshi and Bhalla kills him, but for his valour and concern for the people of his kingdom, Sivagami decides to crown him king\n"
     ]
    }
   ],
   "source": [
    "print(data)"
   ]
  },
  {
   "cell_type": "markdown",
   "metadata": {
    "id": "Q4iVHFIaKpGU"
   },
   "source": [
    "# Checking Stopwords(Raw information)"
   ]
  },
  {
   "cell_type": "code",
   "execution_count": 4,
   "metadata": {
    "id": "1bkXPuqSt5Kx"
   },
   "outputs": [],
   "source": [
    "stopwords = list(STOP_WORDS)"
   ]
  },
  {
   "cell_type": "code",
   "execution_count": 5,
   "metadata": {
    "colab": {
     "base_uri": "https://localhost:8080/"
    },
    "id": "6sq8ZI3WwmS2",
    "outputId": "7973a0b6-049e-4ef5-bee9-dc2bca50df61"
   },
   "outputs": [
    {
     "name": "stdout",
     "output_type": "stream",
     "text": [
      "['why', 'anyway', 'whither', 'mine', 'how', 'between', 'these', 'beyond', 'much', '’m', '‘ll', 'off', 'wherein', 'that', 'do', 'now', 'twelve', 'two', 'although', 'even', 'myself', 'a', 'his', '‘re', 'other', 'themselves', 'another', 'say', 'never', 'been', 'among', 'what', 'somewhere', 'had', 'mostly', 'eight', 'we', 'should', 'made', 'onto', 'third', 'than', 'ca', 'within', 'after', 'sometime', 'no', 'whoever', 'and', 'seemed', 'into', 'before', 'up', 're', 'then', 'further', 'rather', 'beforehand', 'am', 'them', 'indeed', 'doing', 'here', 'our', 'show', 'everyone', 'her', 'along', \"'m\", 'get', 'you', 'any', 'because', 'is', 'since', \"'s\", 'side', 'thereby', 'using', 'keep', 'without', '’re', 'see', 'so', 'over', 'latterly', 'thereupon', 'nothing', 'neither', 'whole', '‘s', 'amount', 'least', 'him', 'anywhere', 'also', 'out', '’s', 'forty', 'ten', 'sixty', 'there', 'be', 'otherwise', 'i', 'name', 'yourself', '’ll', 'same', 'per', 'whereupon', 'part', 'many', 'such', 'either', 'both', 'move', 'often', 'towards', 'except', 'becomes', 'ourselves', 'top', 'herein', 'who', 'hereafter', 'through', 'upon', 'those', 'serious', 'last', 'alone', 'would', 'the', 'front', 'for', 'ours', '‘m', 'are', 'four', 'can', 'more', 'unless', 'its', 'thence', 'has', 'ever', 'namely', 'though', 'around', 'eleven', 'toward', 'whereby', '‘d', 'my', 'give', 'becoming', 'cannot', 'become', 'six', 'someone', 'must', 'three', 'regarding', 'may', 'thus', 'whether', 'call', 'none', 'under', 'while', 'itself', 'hereupon', 'behind', 'meanwhile', 'nowhere', 'by', 'noone', 'where', 'take', 'seems', 'own', 'quite', 'n‘t', '‘ve', 'therein', 'yet', 'yours', 'put', 'whom', 'wherever', 'thru', 'bottom', 'every', \"n't\", 'or', 'as', 'were', 'yourselves', 'herself', 'from', 'us', 'hundred', 'at', \"'re\", 'really', 'whenever', 'did', 'some', 'always', 'first', 'in', 'could', 'well', \"'ll\", 'next', 'somehow', 'not', 'former', 'against', 'on', 'anyhow', 'hereby', 'again', 'during', 'due', 'hence', 'perhaps', \"'d\", 'several', 'each', 'might', 'was', 'me', 'however', 'to', 'done', 'nine', 'whose', 'amongst', 'still', 'anyone', 'seem', 'have', 'go', 'she', 'which', 'back', 'seeming', 'twenty', 'fifteen', 'with', '’ve', 'most', 'everywhere', 'formerly', 'when', 'below', 'but', 'became', 'thereafter', 'together', 'himself', 'besides', 'across', 'whereafter', 'used', 'nobody', 'almost', 'above', 'five', 'nor', 'only', 'whatever', 'empty', 'everything', 'your', 'their', 'therefore', 'beside', 'of', 'if', 'once', 'hers', 'whence', 'all', 'being', 'elsewhere', 'they', 'n’t', 'will', 'whereas', 'something', 'less', 'just', 'anything', 'does', 'one', 'an', 'various', 'else', \"'ve\", 'enough', 'via', 'afterwards', 'nevertheless', 'down', 'latter', 'moreover', 'it', 'few', 'sometimes', 'until', 'full', 'about', 'please', 'fifty', 'very', '’d', 'too', 'make', 'he', 'this', 'others', 'already', 'throughout']\n"
     ]
    }
   ],
   "source": [
    "print(stopwords)"
   ]
  },
  {
   "cell_type": "markdown",
   "metadata": {
    "id": "Ds000ridLNef"
   },
   "source": [
    "# Doing Text lemmatization"
   ]
  },
  {
   "cell_type": "code",
   "execution_count": 52,
   "metadata": {
    "id": "VgYb5KixxHua"
   },
   "outputs": [],
   "source": [
    "nlp = spacy.load(\"en_core_web_sm\")"
   ]
  },
  {
   "cell_type": "code",
   "execution_count": 8,
   "metadata": {
    "id": "8BInEdqcxcqa"
   },
   "outputs": [],
   "source": [
    "doc = nlp(data)"
   ]
  },
  {
   "cell_type": "markdown",
   "metadata": {
    "id": "oWt8tOVuLbGk"
   },
   "source": [
    "# Creating Tokens"
   ]
  },
  {
   "cell_type": "code",
   "execution_count": 9,
   "metadata": {
    "id": "anly9b-bxjXq"
   },
   "outputs": [],
   "source": [
    "tokens = [token.text for token in doc]"
   ]
  },
  {
   "cell_type": "code",
   "execution_count": 10,
   "metadata": {
    "colab": {
     "base_uri": "https://localhost:8080/"
    },
    "id": "AIpCKQuAxtew",
    "outputId": "e571b15e-3131-4bac-8ad2-b6b9849cbeea"
   },
   "outputs": [
    {
     "name": "stdout",
     "output_type": "stream",
     "text": [
      "['The', 'next', 'morning', ',', 'a', 'now', 'friendly', 'Kattappa', 'explains', 'to', 'Shivu', 'about', 'his', 'true', 'origins', '.', 'Shivu', 'is', 'actually', 'Mahendra', 'Baahubali', ',', 'the', 'son', 'of', 'a', 'famous', 'warrior', 'prince', 'of', 'Mahishmati', '-', 'Amarendra', 'Baahubali', '.', 'Kattapa', 'then', 'narrates', 'the', 'past', '-', 'Amarendra', 'was', 'born', 'as', 'an', 'orphan', ';', 'his', 'father', ',', 'King', 'Vikramadeva', 'had', 'died', 'before', 'he', 'was', 'born', 'and', 'his', 'mother', 'had', 'died', 'giving', 'birth', 'to', 'him', '.', 'Lord', 'Bijjaladeva', ',', 'Vikramadeva', \"'s\", 'brother', 'and', 'the', 'next', '-', 'in', '-', 'line', 'in', 'the', 'Mahishmati', 'royal', 'family', ',', 'was', 'denied', 'the', 'throne', ',', 'due', 'to', 'his', 'cunning', 'and', 'deranged', 'nature', '.', 'Bijjaladeva', \"'s\", 'wife', ',', 'Lady', 'Sivagami', ',', 'assumed', 'power', 'as', 'an', 'acting', 'monarch', ',', 'with', 'the', 'intention', 'of', 'raising', 'both', 'Bhalla', '(', 'who', 'happenned', 'to', 'be', 'her', 'son', ')', 'and', 'Amarendra', ',', 'in', 'an', 'equal', 'manner', ',', 'in', 'order', 'to', 'appropriately', 'select', 'the', 'next', 'heir', 'to', 'the', 'throne', 'of', 'Mahishmati', '.', 'Bhalla', 'and', 'Amarendra', 'are', 'both', 'raised', 'equally', 'and', 'trained', 'rigorously', 'in', 'the', 'arts', 'of', 'warfare', ',', 'mathematics', ',', 'administration', ',', 'logic', 'and', 'numerous', 'other', 'subjects', '.', 'Bijjaladeva', ',', 'keen', 'on', 'making', 'his', 'son', 'the', 'next', 'king', ',', 'encourages', 'Bhalla', 'to', 'do', 'what', 'ever', 'it', 'takes', 'to', 'ascend', 'the', 'throne', ';', 'as', 'a', 'result', 'Bhalla', 'treats', 'his', 'subjects', 'with', 'cruelty', 'and', 'unmindfulness', '.', 'Amarendra', ',', 'on', 'the', 'other', 'hand', ',', 'grows', 'up', 'to', 'be', 'more', 'mature', 'and', 'gains', 'popularity', 'in', 'the', 'kingdom', '.', 'A', 'traitor', 'in', 'the', 'kingdom', 'named', 'Sakithan', 'turns', 'out', 'to', 'be', 'a', 'spy', 'for', 'the', 'malicious', 'Kalakeya', 'tribe', ',', 'who', 'are', 'known', 'to', 'be', 'savages', 'and', 'destroyers', 'of', 'kingdoms', '.', 'Their', 'chief', 'Inkoshi', 'declares', 'war', 'due', 'to', 'past', 'conflict', 'with', 'Mahishmati', ',', 'and', 'the', 'royals', 'respond', 'strategically', '.', 'Sivagami', 'decides', 'that', 'whoever', 'kills', 'Inkoshi', 'would', 'be', 'the', 'new', 'worthy', 'king', ',', 'so', 'they', 'assign', 'the', 'princes', 'troops', '.', 'Bijjaladeva', 'secretly', 'makes', 'sure', 'Bhalla', 'has', 'more', 'weapons', 'and', 'men', '.', 'Baahubali', 'manages', 'to', 'destroy', 'more', 'Kalakeya', 'troops', 'using', 'innovative', 'tactics', 'in', 'the', 'coming', 'battle', 'as', 'well', 'as', 'motivating', 'his', 'soldiers', 'and', 'saving', 'hostage', 'subjects', '.', 'He', 'subdues', 'Inkoshi', 'and', 'Bhalla', 'kills', 'him', ',', 'but', 'for', 'his', 'valour', 'and', 'concern', 'for', 'the', 'people', 'of', 'his', 'kingdom', ',', 'Sivagami', 'decides', 'to', 'crown', 'him', 'king']\n"
     ]
    }
   ],
   "source": [
    "print(tokens)"
   ]
  },
  {
   "cell_type": "code",
   "execution_count": 11,
   "metadata": {
    "colab": {
     "base_uri": "https://localhost:8080/"
    },
    "id": "6nJNbRCdx72H",
    "outputId": "30e05460-fee6-4110-d68f-8e82767493b0"
   },
   "outputs": [
    {
     "name": "stdout",
     "output_type": "stream",
     "text": [
      "!\"#$%&'()*+,-./:;<=>?@[\\]^_`{|}~\n"
     ]
    }
   ],
   "source": [
    "print(punctuation)"
   ]
  },
  {
   "cell_type": "markdown",
   "metadata": {
    "id": "CLQdyateLgm3"
   },
   "source": [
    "# Checking Word Frequencies in the Text"
   ]
  },
  {
   "cell_type": "code",
   "execution_count": 53,
   "metadata": {
    "id": "G0R2kA89zSQ3"
   },
   "outputs": [],
   "source": [
    "word_frequencies = {}\n",
    "for word in doc:\n",
    "  if word.text.lower() not in stopwords:\n",
    "    if word.text.lower() not in punctuation:\n",
    "      if word.text not in word_frequencies.keys():\n",
    "        word_frequencies[word.text] = 1\n",
    "      else:\n",
    "        word_frequencies[word.text] += 1"
   ]
  },
  {
   "cell_type": "code",
   "execution_count": 54,
   "metadata": {
    "colab": {
     "base_uri": "https://localhost:8080/"
    },
    "id": "MWUJc2xkBMNW",
    "outputId": "8f0e1f2e-a9c6-4787-93c6-4c9e16fba245"
   },
   "outputs": [
    {
     "name": "stdout",
     "output_type": "stream",
     "text": [
      "{'morning': 1, 'friendly': 1, 'Kattappa': 1, 'explains': 1, 'Shivu': 2, 'true': 1, 'origins': 1, 'actually': 1, 'Mahendra': 1, 'Baahubali': 3, 'son': 3, 'famous': 1, 'warrior': 1, 'prince': 1, 'Mahishmati': 4, 'Amarendra': 5, 'Kattapa': 1, 'narrates': 1, 'past': 2, 'born': 2, 'orphan': 1, 'father': 1, 'King': 1, 'Vikramadeva': 2, 'died': 2, 'mother': 1, 'giving': 1, 'birth': 1, 'Lord': 1, 'Bijjaladeva': 4, 'brother': 1, 'line': 1, 'royal': 1, 'family': 1, 'denied': 1, 'throne': 3, 'cunning': 1, 'deranged': 1, 'nature': 1, 'wife': 1, 'Lady': 1, 'Sivagami': 3, 'assumed': 1, 'power': 1, 'acting': 1, 'monarch': 1, 'intention': 1, 'raising': 1, 'Bhalla': 6, 'happenned': 1, 'equal': 1, 'manner': 1, 'order': 1, 'appropriately': 1, 'select': 1, 'heir': 1, 'raised': 1, 'equally': 1, 'trained': 1, 'rigorously': 1, 'arts': 1, 'warfare': 1, 'mathematics': 1, 'administration': 1, 'logic': 1, 'numerous': 1, 'subjects': 3, 'keen': 1, 'making': 1, 'king': 3, 'encourages': 1, 'takes': 1, 'ascend': 1, 'result': 1, 'treats': 1, 'cruelty': 1, 'unmindfulness': 1, 'hand': 1, 'grows': 1, 'mature': 1, 'gains': 1, 'popularity': 1, 'kingdom': 3, 'traitor': 1, 'named': 1, 'Sakithan': 1, 'turns': 1, 'spy': 1, 'malicious': 1, 'Kalakeya': 2, 'tribe': 1, 'known': 1, 'savages': 1, 'destroyers': 1, 'kingdoms': 1, 'chief': 1, 'Inkoshi': 3, 'declares': 1, 'war': 1, 'conflict': 1, 'royals': 1, 'respond': 1, 'strategically': 1, 'decides': 2, 'kills': 2, 'new': 1, 'worthy': 1, 'assign': 1, 'princes': 1, 'troops': 2, 'secretly': 1, 'makes': 1, 'sure': 1, 'weapons': 1, 'men': 1, 'manages': 1, 'destroy': 1, 'innovative': 1, 'tactics': 1, 'coming': 1, 'battle': 1, 'motivating': 1, 'soldiers': 1, 'saving': 1, 'hostage': 1, 'subdues': 1, 'valour': 1, 'concern': 1, 'people': 1, 'crown': 1}\n"
     ]
    }
   ],
   "source": [
    "print(word_frequencies)"
   ]
  },
  {
   "cell_type": "markdown",
   "metadata": {
    "id": "laTKhW4bLqUJ"
   },
   "source": [
    "# Identifing the Maximum Frequencie\n"
   ]
  },
  {
   "cell_type": "code",
   "execution_count": 55,
   "metadata": {
    "id": "gu_Ea_mFCI4W"
   },
   "outputs": [],
   "source": [
    "max_frequencies = max(word_frequencies.values())"
   ]
  },
  {
   "cell_type": "code",
   "execution_count": 56,
   "metadata": {
    "colab": {
     "base_uri": "https://localhost:8080/"
    },
    "id": "DJElM_oxCeCQ",
    "outputId": "f800fc56-8c01-498c-a9c3-af01f5744ffc"
   },
   "outputs": [
    {
     "name": "stdout",
     "output_type": "stream",
     "text": [
      "6\n"
     ]
    }
   ],
   "source": [
    "print(max_frequencies)"
   ]
  },
  {
   "cell_type": "markdown",
   "metadata": {
    "id": "1dPjxvu7MOmD"
   },
   "source": [
    "# Giving the word value range "
   ]
  },
  {
   "cell_type": "code",
   "execution_count": 17,
   "metadata": {
    "id": "4ywC6t8sCh-N"
   },
   "outputs": [],
   "source": [
    "for word in word_frequencies.keys():\n",
    "  word_frequencies[word] = word_frequencies[word]/max_frequencies"
   ]
  },
  {
   "cell_type": "code",
   "execution_count": 18,
   "metadata": {
    "colab": {
     "base_uri": "https://localhost:8080/"
    },
    "id": "AwnYH6h8DMdt",
    "outputId": "304330d6-781b-4b58-cc8c-608cf83a0ced"
   },
   "outputs": [
    {
     "name": "stdout",
     "output_type": "stream",
     "text": [
      "{'morning': 0.16666666666666666, 'friendly': 0.16666666666666666, 'Kattappa': 0.16666666666666666, 'explains': 0.16666666666666666, 'Shivu': 0.3333333333333333, 'true': 0.16666666666666666, 'origins': 0.16666666666666666, 'actually': 0.16666666666666666, 'Mahendra': 0.16666666666666666, 'Baahubali': 0.5, 'son': 0.5, 'famous': 0.16666666666666666, 'warrior': 0.16666666666666666, 'prince': 0.16666666666666666, 'Mahishmati': 0.6666666666666666, 'Amarendra': 0.8333333333333334, 'Kattapa': 0.16666666666666666, 'narrates': 0.16666666666666666, 'past': 0.3333333333333333, 'born': 0.3333333333333333, 'orphan': 0.16666666666666666, 'father': 0.16666666666666666, 'King': 0.16666666666666666, 'Vikramadeva': 0.3333333333333333, 'died': 0.3333333333333333, 'mother': 0.16666666666666666, 'giving': 0.16666666666666666, 'birth': 0.16666666666666666, 'Lord': 0.16666666666666666, 'Bijjaladeva': 0.6666666666666666, 'brother': 0.16666666666666666, 'line': 0.16666666666666666, 'royal': 0.16666666666666666, 'family': 0.16666666666666666, 'denied': 0.16666666666666666, 'throne': 0.5, 'cunning': 0.16666666666666666, 'deranged': 0.16666666666666666, 'nature': 0.16666666666666666, 'wife': 0.16666666666666666, 'Lady': 0.16666666666666666, 'Sivagami': 0.5, 'assumed': 0.16666666666666666, 'power': 0.16666666666666666, 'acting': 0.16666666666666666, 'monarch': 0.16666666666666666, 'intention': 0.16666666666666666, 'raising': 0.16666666666666666, 'Bhalla': 1.0, 'happenned': 0.16666666666666666, 'equal': 0.16666666666666666, 'manner': 0.16666666666666666, 'order': 0.16666666666666666, 'appropriately': 0.16666666666666666, 'select': 0.16666666666666666, 'heir': 0.16666666666666666, 'raised': 0.16666666666666666, 'equally': 0.16666666666666666, 'trained': 0.16666666666666666, 'rigorously': 0.16666666666666666, 'arts': 0.16666666666666666, 'warfare': 0.16666666666666666, 'mathematics': 0.16666666666666666, 'administration': 0.16666666666666666, 'logic': 0.16666666666666666, 'numerous': 0.16666666666666666, 'subjects': 0.5, 'keen': 0.16666666666666666, 'making': 0.16666666666666666, 'king': 0.5, 'encourages': 0.16666666666666666, 'takes': 0.16666666666666666, 'ascend': 0.16666666666666666, 'result': 0.16666666666666666, 'treats': 0.16666666666666666, 'cruelty': 0.16666666666666666, 'unmindfulness': 0.16666666666666666, 'hand': 0.16666666666666666, 'grows': 0.16666666666666666, 'mature': 0.16666666666666666, 'gains': 0.16666666666666666, 'popularity': 0.16666666666666666, 'kingdom': 0.5, 'traitor': 0.16666666666666666, 'named': 0.16666666666666666, 'Sakithan': 0.16666666666666666, 'turns': 0.16666666666666666, 'spy': 0.16666666666666666, 'malicious': 0.16666666666666666, 'Kalakeya': 0.3333333333333333, 'tribe': 0.16666666666666666, 'known': 0.16666666666666666, 'savages': 0.16666666666666666, 'destroyers': 0.16666666666666666, 'kingdoms': 0.16666666666666666, 'chief': 0.16666666666666666, 'Inkoshi': 0.5, 'declares': 0.16666666666666666, 'war': 0.16666666666666666, 'conflict': 0.16666666666666666, 'royals': 0.16666666666666666, 'respond': 0.16666666666666666, 'strategically': 0.16666666666666666, 'decides': 0.3333333333333333, 'kills': 0.3333333333333333, 'new': 0.16666666666666666, 'worthy': 0.16666666666666666, 'assign': 0.16666666666666666, 'princes': 0.16666666666666666, 'troops': 0.3333333333333333, 'secretly': 0.16666666666666666, 'makes': 0.16666666666666666, 'sure': 0.16666666666666666, 'weapons': 0.16666666666666666, 'men': 0.16666666666666666, 'manages': 0.16666666666666666, 'destroy': 0.16666666666666666, 'innovative': 0.16666666666666666, 'tactics': 0.16666666666666666, 'coming': 0.16666666666666666, 'battle': 0.16666666666666666, 'motivating': 0.16666666666666666, 'soldiers': 0.16666666666666666, 'saving': 0.16666666666666666, 'hostage': 0.16666666666666666, 'subdues': 0.16666666666666666, 'valour': 0.16666666666666666, 'concern': 0.16666666666666666, 'people': 0.16666666666666666, 'crown': 0.16666666666666666}\n"
     ]
    }
   ],
   "source": [
    "print(word_frequencies)"
   ]
  },
  {
   "cell_type": "markdown",
   "metadata": {
    "id": "J2dq91YgMVkN"
   },
   "source": [
    "# Making sentence Tokens"
   ]
  },
  {
   "cell_type": "code",
   "execution_count": 57,
   "metadata": {
    "id": "tVpo4JZiEn-Y"
   },
   "outputs": [],
   "source": [
    "sentence_tokens = [sent for sent in doc.sents]"
   ]
  },
  {
   "cell_type": "code",
   "execution_count": 58,
   "metadata": {
    "colab": {
     "base_uri": "https://localhost:8080/"
    },
    "id": "yc-R467sExqN",
    "outputId": "62e0b9ba-8289-4bd6-cec7-b9199358015c"
   },
   "outputs": [
    {
     "name": "stdout",
     "output_type": "stream",
     "text": [
      "[The next morning, a now friendly Kattappa explains to Shivu about his true origins., Shivu is actually Mahendra Baahubali, the son of a famous warrior prince of Mahishmati - Amarendra Baahubali., Kattapa then narrates the past - Amarendra was born as an orphan; his father, King Vikramadeva had died before he was born and his mother had died giving birth to him., Lord Bijjaladeva, Vikramadeva's brother and the next-in-line in the Mahishmati royal family, was denied the throne, due to his cunning and deranged nature., Bijjaladeva's wife, Lady Sivagami, assumed power as an acting monarch, with the intention of raising both Bhalla (who happenned to be her son) and Amarendra, in an equal manner, in order to appropriately select the next heir to the throne of Mahishmati., Bhalla and Amarendra are both raised equally and trained rigorously in the arts of warfare, mathematics, administration, logic and numerous other subjects., Bijjaladeva, keen on making his son the next king, encourages Bhalla to do what ever it takes to ascend the throne; as a result Bhalla treats his subjects with cruelty and unmindfulness., Amarendra, on the other hand, grows up to be more mature and gains popularity in the kingdom., A traitor in the kingdom named Sakithan turns out to be a spy for the malicious Kalakeya tribe, who are known to be savages and destroyers of kingdoms., Their chief Inkoshi declares war due to past conflict with Mahishmati, and the royals respond strategically., Sivagami decides that whoever kills Inkoshi would be the new worthy king, so they assign the princes troops., Bijjaladeva secretly makes sure Bhalla has more weapons and men., Baahubali manages to destroy more Kalakeya troops using innovative tactics in the coming battle as well as motivating his soldiers and saving hostage subjects., He subdues Inkoshi and Bhalla kills him, but for his valour and concern for the people of his kingdom, Sivagami decides to crown him king]\n"
     ]
    }
   ],
   "source": [
    "print(sentence_tokens)"
   ]
  },
  {
   "cell_type": "markdown",
   "metadata": {
    "id": "fp0-d8XzMld8"
   },
   "source": [
    "# Checking sentence scores(Sentence Frequence)"
   ]
  },
  {
   "cell_type": "code",
   "execution_count": 59,
   "metadata": {
    "id": "t8NDekW_DQC9"
   },
   "outputs": [],
   "source": [
    "sentence_scores = {}\n",
    "for sent in sentence_tokens:\n",
    "  for word in sent:\n",
    "    if word.text.lower() in word_frequencies.keys():\n",
    "      if sent not in sentence_scores.keys():\n",
    "        sentence_scores[sent] = word_frequencies[word.text.lower()]\n",
    "      else:\n",
    "        sentence_scores[sent] += word_frequencies[word.text.lower()]"
   ]
  },
  {
   "cell_type": "code",
   "execution_count": 60,
   "metadata": {
    "colab": {
     "base_uri": "https://localhost:8080/"
    },
    "id": "SagIzbT2Ewt1",
    "outputId": "0df99201-9b32-41d6-8fe6-f4d788ab3ef9"
   },
   "outputs": [
    {
     "name": "stdout",
     "output_type": "stream",
     "text": [
      "{The next morning, a now friendly Kattappa explains to Shivu about his true origins.: 5, Shivu is actually Mahendra Baahubali, the son of a famous warrior prince of Mahishmati - Amarendra Baahubali.: 7, Kattapa then narrates the past - Amarendra was born as an orphan; his father, King Vikramadeva had died before he was born and his mother had died giving birth to him.: 19, Lord Bijjaladeva, Vikramadeva's brother and the next-in-line in the Mahishmati royal family, was denied the throne, due to his cunning and deranged nature.: 11, Bijjaladeva's wife, Lady Sivagami, assumed power as an acting monarch, with the intention of raising both Bhalla (who happenned to be her son) and Amarendra, in an equal manner, in order to appropriately select the next heir to the throne of Mahishmati.: 20, Bhalla and Amarendra are both raised equally and trained rigorously in the arts of warfare, mathematics, administration, logic and numerous other subjects.: 13, Bijjaladeva, keen on making his son the next king, encourages Bhalla to do what ever it takes to ascend the throne; as a result Bhalla treats his subjects with cruelty and unmindfulness.: 21, Amarendra, on the other hand, grows up to be more mature and gains popularity in the kingdom.: 8, A traitor in the kingdom named Sakithan turns out to be a spy for the malicious Kalakeya tribe, who are known to be savages and destroyers of kingdoms.: 13, Their chief Inkoshi declares war due to past conflict with Mahishmati, and the royals respond strategically.: 9, Sivagami decides that whoever kills Inkoshi would be the new worthy king, so they assign the princes troops.: 13, Bijjaladeva secretly makes sure Bhalla has more weapons and men.: 5, Baahubali manages to destroy more Kalakeya troops using innovative tactics in the coming battle as well as motivating his soldiers and saving hostage subjects.: 15, He subdues Inkoshi and Bhalla kills him, but for his valour and concern for the people of his kingdom, Sivagami decides to crown him king: 15}\n"
     ]
    }
   ],
   "source": [
    "print(sentence_scores)"
   ]
  },
  {
   "cell_type": "markdown",
   "metadata": {
    "id": "N8t5RBwYM2Oe"
   },
   "source": [
    "# Creating a Summary  from the given Text"
   ]
  },
  {
   "cell_type": "code",
   "execution_count": 61,
   "metadata": {
    "colab": {
     "base_uri": "https://localhost:8080/"
    },
    "id": "Q8Ewt_tREM1-",
    "outputId": "f6d3c0ef-fdfa-4f61-cdac-edbf43d4abb6"
   },
   "outputs": [
    {
     "name": "stdout",
     "output_type": "stream",
     "text": [
      "2\n"
     ]
    }
   ],
   "source": [
    "select_length = int(len(sentence_tokens)*0.2)\n",
    "print(select_length)"
   ]
  },
  {
   "cell_type": "code",
   "execution_count": 62,
   "metadata": {
    "id": "ktrKnNRCESTj"
   },
   "outputs": [],
   "source": [
    "summary = nlargest(select_length,sentence_scores, key=sentence_scores.get)\n"
   ]
  },
  {
   "cell_type": "code",
   "execution_count": 63,
   "metadata": {
    "colab": {
     "base_uri": "https://localhost:8080/"
    },
    "id": "7Q8BSBbwGVkR",
    "outputId": "9b87cf32-a71a-4771-c385-0edefe8cdece"
   },
   "outputs": [
    {
     "name": "stdout",
     "output_type": "stream",
     "text": [
      "[Bijjaladeva, keen on making his son the next king, encourages Bhalla to do what ever it takes to ascend the throne; as a result Bhalla treats his subjects with cruelty and unmindfulness., Bijjaladeva's wife, Lady Sivagami, assumed power as an acting monarch, with the intention of raising both Bhalla (who happenned to be her son) and Amarendra, in an equal manner, in order to appropriately select the next heir to the throne of Mahishmati.]\n"
     ]
    }
   ],
   "source": [
    "print(summary)"
   ]
  },
  {
   "cell_type": "markdown",
   "metadata": {
    "id": "krA0hKRpNE1a"
   },
   "source": [
    "# FINAL SUMMARY"
   ]
  },
  {
   "cell_type": "code",
   "execution_count": 64,
   "metadata": {
    "id": "qZ5hoaN9GqlE"
   },
   "outputs": [],
   "source": [
    "summary_join = [word.text for word in summary]\n",
    "summary = ' '.join(summary_join)"
   ]
  },
  {
   "cell_type": "code",
   "execution_count": 65,
   "metadata": {
    "colab": {
     "base_uri": "https://localhost:8080/"
    },
    "id": "TEWbzITYIHZo",
    "outputId": "24dfbc29-5881-4248-b4b1-e124999e656b"
   },
   "outputs": [
    {
     "name": "stdout",
     "output_type": "stream",
     "text": [
      "Bijjaladeva, keen on making his son the next king, encourages Bhalla to do what ever it takes to ascend the throne; as a result Bhalla treats his subjects with cruelty and unmindfulness. Bijjaladeva's wife, Lady Sivagami, assumed power as an acting monarch, with the intention of raising both Bhalla (who happenned to be her son) and Amarendra, in an equal manner, in order to appropriately select the next heir to the throne of Mahishmati.\n"
     ]
    }
   ],
   "source": [
    "print(summary)"
   ]
  },
  {
   "cell_type": "markdown",
   "metadata": {
    "id": "EubZBMXPNKOV"
   },
   "source": [
    "# Compairing the length of the Text and Summary"
   ]
  },
  {
   "cell_type": "code",
   "execution_count": 66,
   "metadata": {
    "colab": {
     "base_uri": "https://localhost:8080/"
    },
    "id": "1XVz9aVnIPDq",
    "outputId": "f340164f-2b96-4584-823c-44ec4e370edb"
   },
   "outputs": [
    {
     "name": "stdout",
     "output_type": "stream",
     "text": [
      "1940\n",
      "440\n"
     ]
    }
   ],
   "source": [
    "print(len(data))\n",
    "print(len(summary))"
   ]
  },
  {
   "cell_type": "code",
   "execution_count": null,
   "metadata": {
    "id": "eNIUegvtIjHQ"
   },
   "outputs": [],
   "source": []
  }
 ],
 "metadata": {
  "colab": {
   "collapsed_sections": [],
   "name": "Untitled0.ipynb",
   "provenance": []
  },
  "kernelspec": {
   "display_name": "Python 3",
   "language": "python",
   "name": "python3"
  },
  "language_info": {
   "codemirror_mode": {
    "name": "ipython",
    "version": 3
   },
   "file_extension": ".py",
   "mimetype": "text/x-python",
   "name": "python",
   "nbconvert_exporter": "python",
   "pygments_lexer": "ipython3",
   "version": "3.8.5"
  }
 },
 "nbformat": 4,
 "nbformat_minor": 1
}
